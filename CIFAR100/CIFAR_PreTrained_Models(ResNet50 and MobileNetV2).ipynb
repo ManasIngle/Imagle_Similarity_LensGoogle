{
  "nbformat": 4,
  "nbformat_minor": 0,
  "metadata": {
    "colab": {
      "provenance": [],
      "gpuType": "T4"
    },
    "kernelspec": {
      "name": "python3",
      "display_name": "Python 3"
    },
    "language_info": {
      "name": "python"
    },
    "accelerator": "GPU"
  },
  "cells": [
    {
      "cell_type": "code",
      "execution_count": 2,
      "metadata": {
        "colab": {
          "base_uri": "https://localhost:8080/"
        },
        "id": "We0gk9LZp5jB",
        "outputId": "26fdb77e-ed2e-4912-912c-1a5458fa0d73"
      },
      "outputs": [
        {
          "output_type": "stream",
          "name": "stdout",
          "text": [
            "Downloading data from https://www.cs.toronto.edu/~kriz/cifar-100-python.tar.gz\n",
            "\u001b[1m169001437/169001437\u001b[0m \u001b[32m━━━━━━━━━━━━━━━━━━━━\u001b[0m\u001b[37m\u001b[0m \u001b[1m3s\u001b[0m 0us/step\n"
          ]
        }
      ],
      "source": [
        "import numpy as np\n",
        "import tensorflow as tf\n",
        "from tensorflow.keras.applications import ResNet50, MobileNetV2\n",
        "from tensorflow.keras.models import Model\n",
        "from sklearn.metrics.pairwise import cosine_similarity\n",
        "from tensorflow.keras.layers import Flatten, Dense\n",
        "import random\n",
        "\n",
        "cifar100 = tf.keras.datasets.cifar100\n",
        "(x_train, y_train), (x_test, y_test) = cifar100.load_data()\n",
        "\n",
        "x_train = x_train.astype('float32') / 255.0\n",
        "x_test = x_test.astype('float32') / 255.0\n",
        "input_shape = x_train.shape[1:]  # (32, 32, 3)\n",
        "ground_truth_labels = y_test.flatten()\n",
        "\n",
        "\n"
      ]
    },
    {
      "cell_type": "code",
      "source": [
        "def build_resnet_encoder(input_shape):\n",
        "    base_model = ResNet50(weights='imagenet', include_top=False, input_shape=input_shape)\n",
        "    x = Flatten()(base_model.output)\n",
        "    x = Dense(512, activation='relu')(x)\n",
        "    encoder = Model(inputs=base_model.input, outputs=x)\n",
        "    return encoder\n",
        "\n",
        "def build_mobilenet_encoder(input_shape):\n",
        "    base_model = MobileNetV2(weights='imagenet', include_top=False, input_shape=input_shape)\n",
        "    x = Flatten()(base_model.output)\n",
        "    x = Dense(512, activation='relu')(x)\n",
        "    encoder = Model(inputs=base_model.input, outputs=x)\n",
        "    return encoder\n",
        "\n",
        "resnet_encoder = build_resnet_encoder(input_shape)\n",
        "mobilenet_encoder = build_mobilenet_encoder(input_shape)\n"
      ],
      "metadata": {
        "colab": {
          "base_uri": "https://localhost:8080/"
        },
        "id": "d9JkNCHjqUd8",
        "outputId": "308d2f28-ac8c-4aec-e02d-fde680166161"
      },
      "execution_count": 3,
      "outputs": [
        {
          "output_type": "stream",
          "name": "stdout",
          "text": [
            "Downloading data from https://storage.googleapis.com/tensorflow/keras-applications/resnet/resnet50_weights_tf_dim_ordering_tf_kernels_notop.h5\n",
            "\u001b[1m94765736/94765736\u001b[0m \u001b[32m━━━━━━━━━━━━━━━━━━━━\u001b[0m\u001b[37m\u001b[0m \u001b[1m1s\u001b[0m 0us/step\n"
          ]
        },
        {
          "output_type": "stream",
          "name": "stderr",
          "text": [
            "<ipython-input-3-93e4bd2823b8>:9: UserWarning: `input_shape` is undefined or non-square, or `rows` is not in [96, 128, 160, 192, 224]. Weights for input shape (224, 224) will be loaded as the default.\n",
            "  base_model = MobileNetV2(weights='imagenet', include_top=False, input_shape=input_shape)\n"
          ]
        },
        {
          "output_type": "stream",
          "name": "stdout",
          "text": [
            "Downloading data from https://storage.googleapis.com/tensorflow/keras-applications/mobilenet_v2/mobilenet_v2_weights_tf_dim_ordering_tf_kernels_1.0_224_no_top.h5\n",
            "\u001b[1m9406464/9406464\u001b[0m \u001b[32m━━━━━━━━━━━━━━━━━━━━\u001b[0m\u001b[37m\u001b[0m \u001b[1m0s\u001b[0m 0us/step\n"
          ]
        }
      ]
    },
    {
      "cell_type": "code",
      "source": [
        "def evaluate_similarity(encoder, query_image, dataset, ground_truth_labels, query_label, top_k=5):\n",
        "    query_embedding = encoder.predict(np.expand_dims(query_image, axis=0))\n",
        "    dataset_embeddings = encoder.predict(dataset)\n",
        "\n",
        "    query_embedding = query_embedding.reshape(1, -1)\n",
        "    dataset_embeddings = dataset_embeddings.reshape(dataset_embeddings.shape[0], -1)\n",
        "\n",
        "    similarities = cosine_similarity(query_embedding, dataset_embeddings).flatten()\n",
        "\n",
        "    sorted_indices = np.argsort(similarities)[::-1]\n",
        "\n",
        "    relevant_labels = [1 if ground_truth_labels[i] == query_label else 0 for i in sorted_indices]\n",
        "\n",
        "    retrieved_labels = relevant_labels[:top_k]\n",
        "\n",
        "    precision = np.sum(retrieved_labels) / top_k if top_k > 0 else 0\n",
        "    recall = np.sum(retrieved_labels) / np.sum(np.array(ground_truth_labels) == query_label) if np.sum(np.array(ground_truth_labels) == query_label) > 0 else 0\n",
        "    retrieval_accuracy = np.mean(retrieved_labels)\n",
        "\n",
        "    return precision, recall, retrieval_accuracy\n"
      ],
      "metadata": {
        "id": "PKbp3rECqW8H"
      },
      "execution_count": 3,
      "outputs": []
    },
    {
      "cell_type": "code",
      "source": [
        "query_idx = random.randint(0, len(x_test) - 1)\n",
        "query_image = x_test[query_idx]\n",
        "query_label = ground_truth_labels[query_idx]\n",
        "\n",
        "precision_resnet, recall_resnet, retrieval_accuracy_resnet = evaluate_similarity(\n",
        "    resnet_encoder, query_image, x_test, ground_truth_labels, query_label, top_k=5\n",
        ")\n",
        "\n",
        "precision_mobilenet, recall_mobilenet, retrieval_accuracy_mobilenet = evaluate_similarity(\n",
        "    mobilenet_encoder, query_image, x_test, ground_truth_labels, query_label, top_k=5\n",
        ")\n",
        "\n",
        "print(\"ResNet Results:\")\n",
        "print(f\"Precision: {precision_resnet:.4f}\")\n",
        "print(f\"Recall: {recall_resnet:.4f}\")\n",
        "print(f\"Retrieval Accuracy: {retrieval_accuracy_resnet:.4f}\")\n",
        "\n",
        "print(\"\\nMobileNet Results:\")\n",
        "print(f\"Precision: {precision_mobilenet:.4f}\")\n",
        "print(f\"Recall: {recall_mobilenet:.4f}\")\n",
        "print(f\"Retrieval Accuracy: {retrieval_accuracy_mobilenet:.4f}\")"
      ],
      "metadata": {
        "colab": {
          "base_uri": "https://localhost:8080/"
        },
        "id": "S1oIrllwqbrA",
        "outputId": "6f7f7739-4326-4120-e58d-48d9eae24e88"
      },
      "execution_count": 4,
      "outputs": [
        {
          "output_type": "stream",
          "name": "stdout",
          "text": [
            "\u001b[1m1/1\u001b[0m \u001b[32m━━━━━━━━━━━━━━━━━━━━\u001b[0m\u001b[37m\u001b[0m \u001b[1m6s\u001b[0m 6s/step\n",
            "\u001b[1m313/313\u001b[0m \u001b[32m━━━━━━━━━━━━━━━━━━━━\u001b[0m\u001b[37m\u001b[0m \u001b[1m8s\u001b[0m 13ms/step\n",
            "\u001b[1m1/1\u001b[0m \u001b[32m━━━━━━━━━━━━━━━━━━━━\u001b[0m\u001b[37m\u001b[0m \u001b[1m3s\u001b[0m 3s/step\n",
            "\u001b[1m313/313\u001b[0m \u001b[32m━━━━━━━━━━━━━━━━━━━━\u001b[0m\u001b[37m\u001b[0m \u001b[1m7s\u001b[0m 12ms/step\n",
            "ResNet Results:\n",
            "Precision: 0.2000\n",
            "Recall: 0.0100\n",
            "Retrieval Accuracy: 0.2000\n",
            "\n",
            "MobileNet Results:\n",
            "Precision: 0.2000\n",
            "Recall: 0.0100\n",
            "Retrieval Accuracy: 0.2000\n"
          ]
        }
      ]
    }
  ]
}